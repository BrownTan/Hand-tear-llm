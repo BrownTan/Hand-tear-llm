{
 "cells": [
  {
   "cell_type": "markdown",
   "metadata": {},
   "source": [
    "# Causal LM的decoder：主要是MHA和FFN部分。"
   ]
  },
  {
   "cell_type": "code",
   "execution_count": 1,
   "metadata": {},
   "outputs": [],
   "source": [
    "import math\n",
    "import torch\n",
    "import torch.nn as nn"
   ]
  },
  {
   "cell_type": "code",
   "execution_count": 18,
   "metadata": {},
   "outputs": [],
   "source": [
    "class SimpleDecoderLayer(nn.Module):\n",
    "    def __init__(self, hidden_size, num_heads, attention_dropout_rate=0.1):\n",
    "        super().__init__()\n",
    "        self.hidden_size = hidden_size\n",
    "        self.num_heads = num_heads\n",
    "        self.head_size = hidden_size // num_heads\n",
    "\n",
    "        # MHA part\n",
    "        self.q_proj = nn.Linear(hidden_size, hidden_size)\n",
    "        self.k_proj = nn.Linear(hidden_size, hidden_size)\n",
    "        self.v_proj = nn.Linear(hidden_size, hidden_size)\n",
    "        self.o_proj = nn.Linear(hidden_size, hidden_size)\n",
    "\n",
    "        self.attention_dropout = nn.Dropout(attention_dropout_rate)\n",
    "        self.attention_layer_norm = nn.LayerNorm(hidden_size, eps=1e-6)\n",
    "\n",
    "        # FFN part ： 升维 -> 降维 -> layernorm \n",
    "        self.up_proj = nn.Linear(hidden_size, hidden_size * 4)  # 这里是4倍，swishGLU是8/3\n",
    "        self.down_proj = nn.Linear(hidden_size * 4, hidden_size)\n",
    "        self.act_fn = nn.GELU()\n",
    "\n",
    "        self.ffn_dropout = nn.Dropout(attention_dropout_rate)\n",
    "        self.ffn_layer_norm = nn.LayerNorm(hidden_size, eps=1e-6)\n",
    "\n",
    "    def attention_layer(self, q, k, v, attention_mask=None):\n",
    "        attention_value = torch.matmul(q, k.transpose(-1, -2)) / math.sqrt(self.head_size)\n",
    "\n",
    "        if attention_mask is not None:\n",
    "            attention_value = attention_value.tril()  # 保留左下三角，其余置0\n",
    "            attention_value = attention_value.masked_fill(attention_mask == 0, float(\"-inf\"))   \n",
    "        else:\n",
    "            attention_mask = torch.ones_like(attention_value).tril()\n",
    "            attention_value = attention_value.masked_fill(attention_mask == 0, float(\"-inf\"))\n",
    "\n",
    "        attention_weight = torch.softmax(attention_value, dim=-1)\n",
    "        attention_weight = self.attention_dropout(attention_weight)\n",
    "\n",
    "        attention_result = torch.matmul(attention_weight, v)\n",
    "        # concat\n",
    "        batch_size, seq_len = attention_result.shape[0], attention_result.shape[2]\n",
    "        attention_result = attention_result.transpose(1, 2).contiguous().view(batch_size, seq_len, self.hidden_size)\n",
    "\n",
    "        output = self.o_proj(attention_result)\n",
    "\n",
    "        return output\n",
    "            \n",
    "\n",
    "    def MHA(self, x, attention_mask=None):\n",
    "        batch_size, seq_len, hidden_size = x.shape\n",
    "\n",
    "        Q = self.q_proj(x)\n",
    "        K = self.k_proj(x)\n",
    "        V = self.v_proj(x)\n",
    "\n",
    "        Q = Q.view(batch_size, seq_len, self.num_heads, self.head_size).transpose(1, 2)\n",
    "        K = K.view(batch_size, seq_len, self.num_heads, self.head_size).transpose(1, 2)\n",
    "        V = V.view(batch_size, seq_len, self.num_heads, self.head_size).transpose(1, 2)\n",
    "\n",
    "        output = self.attention_layer(Q, K, V, attention_mask)\n",
    "\n",
    "        # residual + post-layernorm\n",
    "        output = self.attention_layer_norm(x + output)\n",
    "\n",
    "        return output\n",
    "    \n",
    "    def FFN(self, x):\n",
    "        up = self.up_proj(x)\n",
    "        up = self.act_fn(up)\n",
    "        down = self.down_proj(up)\n",
    "        down = self.ffn_dropout(down)\n",
    "        # residual + post-layernorm\n",
    "        output = self.ffn_layer_norm(x + down)\n",
    "        return output\n",
    "\n",
    "    def forward(self, x, attention_mask=None):\n",
    "        x = self.MHA(x, attention_mask)\n",
    "        x = self.FFN(x)\n",
    "        return x"
   ]
  },
  {
   "cell_type": "code",
   "execution_count": 25,
   "metadata": {},
   "outputs": [],
   "source": [
    "class Decoder(nn.Module):\n",
    "    def __init__(self, vocab_size, hidden_size, num_heads, attention_dropout_rate=0.1):\n",
    "        super().__init__()\n",
    "        self.embedding = nn.Embedding(vocab_size, hidden_size)\n",
    "        self.layer_list = nn.ModuleList([\n",
    "            SimpleDecoderLayer(hidden_size, num_heads, attention_dropout_rate)\n",
    "        ])\n",
    "        self.output_layer = nn.Linear(hidden_size, vocab_size)\n",
    "    \n",
    "    def forward(self, x, attention_mask=None):\n",
    "        x = self.embedding(x)\n",
    "        for layer in self.layer_list:\n",
    "            x = layer(x, attention_mask)\n",
    "        output = self.output_layer(x)\n",
    "        logits = torch.softmax(output, dim=-1)  \n",
    "        return output"
   ]
  },
  {
   "cell_type": "code",
   "execution_count": 38,
   "metadata": {},
   "outputs": [
    {
     "name": "stdout",
     "output_type": "stream",
     "text": [
      "tensor([[ 8,  3,  0,  9],\n",
      "        [ 5,  5,  0,  3],\n",
      "        [ 9,  8,  0, 10]])\n"
     ]
    },
    {
     "data": {
      "text/plain": [
       "torch.Size([3, 4, 12])"
      ]
     },
     "execution_count": 38,
     "metadata": {},
     "output_type": "execute_result"
    }
   ],
   "source": [
    "x = torch.randint(low=0, high=12, size=(3, 4))  # 最大为12，因为下面vocab_size=12\n",
    "print(x)\n",
    "# x = torch.rand(3, 4, 64)\n",
    "# net = SimpleDecoderLayer(64, 8)\n",
    "net = Decoder(12, 64, 8)\n",
    "mask = (\n",
    "    torch.tensor([[1, 1, 1, 1], [1, 1, 0, 0], [1, 1, 1, 0]])\n",
    "    .unsqueeze(1)\n",
    "    .unsqueeze(2)\n",
    "    .repeat(1, 8, 4, 1)\n",
    ")\n",
    "\n",
    "net(x, mask).shape"
   ]
  },
  {
   "cell_type": "code",
   "execution_count": 13,
   "metadata": {},
   "outputs": [
    {
     "data": {
      "text/plain": [
       "tensor([[[0., 0., 0., 0., 0.],\n",
       "         [0., 0., 0., 0., 0.],\n",
       "         [0., 0., 0., 0., 0.],\n",
       "         [0., 0., 0., 0., 0.],\n",
       "         [0., 0., 0., 0., 0.]],\n",
       "\n",
       "        [[0., 0., 0., 0., 0.],\n",
       "         [0., 0., 0., 0., 0.],\n",
       "         [0., 0., 0., 0., 0.],\n",
       "         [0., 0., 0., 0., 0.],\n",
       "         [0., 0., 0., 0., 0.]],\n",
       "\n",
       "        [[0., 0., 0., 0., 0.],\n",
       "         [0., 0., 0., 0., 0.],\n",
       "         [0., 0., 0., 0., 0.],\n",
       "         [0., 0., 0., 0., 0.],\n",
       "         [0., 0., 0., 0., 0.]],\n",
       "\n",
       "        [[0., 0., 0., 0., 0.],\n",
       "         [0., 0., 0., 0., 0.],\n",
       "         [0., 0., 0., 0., 0.],\n",
       "         [0., 0., 0., 0., 0.],\n",
       "         [0., 0., 0., 0., 0.]],\n",
       "\n",
       "        [[0., 0., 0., 0., 0.],\n",
       "         [0., 0., 0., 0., 0.],\n",
       "         [0., 0., 0., 0., 0.],\n",
       "         [0., 0., 0., 0., 0.],\n",
       "         [0., 0., 0., 0., 0.]]])"
      ]
     },
     "execution_count": 13,
     "metadata": {},
     "output_type": "execute_result"
    }
   ],
   "source": [
    "attention_mask = torch.ones(5, 5, 5)\n",
    "test = attention_mask.tril() - torch.ones(5, 5, 5)\n",
    "test.tril_()"
   ]
  },
  {
   "cell_type": "code",
   "execution_count": 11,
   "metadata": {},
   "outputs": [
    {
     "data": {
      "text/plain": [
       "tensor([[1., 1., 1., 1., 1.],\n",
       "        [1., 1., 1., 1., 1.],\n",
       "        [1., 1., 1., 1., 1.],\n",
       "        [1., 1., 1., 1., 1.],\n",
       "        [1., 1., 1., 1., 1.]])"
      ]
     },
     "execution_count": 11,
     "metadata": {},
     "output_type": "execute_result"
    }
   ],
   "source": [
    "attention_mask"
   ]
  },
  {
   "cell_type": "code",
   "execution_count": 17,
   "metadata": {},
   "outputs": [
    {
     "data": {
      "text/plain": [
       "(5, 5)"
      ]
     },
     "execution_count": 17,
     "metadata": {},
     "output_type": "execute_result"
    }
   ],
   "source": [
    "batch_size, seq_len = attention_mask.shape[0], attention_mask.shape[2]\n",
    "print(batch_size, seq_len)"
   ]
  },
  {
   "cell_type": "code",
   "execution_count": null,
   "metadata": {},
   "outputs": [],
   "source": []
  }
 ],
 "metadata": {
  "kernelspec": {
   "display_name": "tanshuai",
   "language": "python",
   "name": "python3"
  },
  "language_info": {
   "codemirror_mode": {
    "name": "ipython",
    "version": 3
   },
   "file_extension": ".py",
   "mimetype": "text/x-python",
   "name": "python",
   "nbconvert_exporter": "python",
   "pygments_lexer": "ipython3",
   "version": "3.11.10"
  }
 },
 "nbformat": 4,
 "nbformat_minor": 2
}
