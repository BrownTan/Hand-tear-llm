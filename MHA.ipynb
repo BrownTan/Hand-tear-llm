{
 "cells": [
  {
   "cell_type": "code",
   "execution_count": 1,
   "metadata": {},
   "outputs": [],
   "source": [
    "import math\n",
    "import torch\n",
    "import torch.nn as nn\n",
    "\n",
    "class MultiHeadAttention(nn.Module):\n",
    "    def __init__(self, hidden_size, num_heads, dropout_rate=0.1):\n",
    "        super().__init__()\n",
    "        self.hidden_size = hidden_size\n",
    "        self.num_heads = num_heads\n",
    "        self.head_size = hidden_size // num_heads \n",
    "        self.attention_dropout = nn.Dropout(dropout_rate)\n",
    "\n",
    "        self.q_proj = nn.Linear(hidden_size, hidden_size)  # (hidden_size, head_size * num_heads)\n",
    "        self.k_proj = nn.Linear(hidden_size, hidden_size)\n",
    "        self.v_proj = nn.Linear(hidden_size, hidden_size)\n",
    "        self.o_proj = nn.Linear(hidden_size, hidden_size)\n",
    "\n",
    "    def forward(self, x, attention_mask=None):\n",
    "        # x: [batch_size, seq_len, hidden_size]\n",
    "        batch_size, seq_len, hidden_size = x.shape\n",
    "        Q = self.q_proj(x)\n",
    "        K = self.k_proj(x)\n",
    "        V = self.v_proj(x) # [batch_size, seq_len, hidden_size]\n",
    "\n",
    "        # 期望[batch_size, num_heads, seq_len, head_size]\n",
    "        Q = Q.view(batch_size, seq_len, self.num_heads, self.head_size).transpose(1, 2)\n",
    "        K = K.view(batch_size, seq_len, self.num_heads, self.head_size).transpose(1, 2)\n",
    "        V = V.view(batch_size, seq_len, self.num_heads, self.head_size).transpose(1, 2)\n",
    "\n",
    "        attention_value = torch.matmul(Q, K.transpose(-1, -2)) / math.sqrt(self.head_size)\n",
    "        # attention_value: [batch_size, num_heads, seq_len, seq_len]\n",
    "\n",
    "        if attention_mask is not None:\n",
    "            attention_value = attention_value.masked_fill(attention_mask == 0, float(\"-inf\"))\n",
    "        print(attention_value.shape)\n",
    "\n",
    "        attention_weight = torch.softmax(attention_value, dim=-1)\n",
    "\n",
    "        attention_weight = self.attention_dropout(attention_weight)\n",
    "\n",
    "        attention_result = torch.matmul(attention_weight, V)\n",
    "        # attention_result: [batch_size, num_heads, seq_len, head_size]\n",
    "        # 期望concat得到[batch_size, seq_len, hidden_size]\n",
    "        attention_result = attention_result.transpose(1, 2).contiguous().view(batch_size, seq_len, hidden_size)\n",
    "\n",
    "        output = self.o_proj(attention_result)\n",
    "\n",
    "        return output\n",
    "        "
   ]
  },
  {
   "cell_type": "code",
   "execution_count": 2,
   "metadata": {},
   "outputs": [
    {
     "name": "stdout",
     "output_type": "stream",
     "text": [
      "tensor([[[1, 1, 1, 0],\n",
      "         [1, 1, 1, 0],\n",
      "         [1, 1, 1, 0],\n",
      "         [1, 1, 1, 0],\n",
      "         [1, 1, 1, 0],\n",
      "         [1, 1, 1, 0],\n",
      "         [1, 1, 1, 0],\n",
      "         [1, 1, 1, 0]],\n",
      "\n",
      "        [[1, 1, 0, 0],\n",
      "         [1, 1, 0, 0],\n",
      "         [1, 1, 0, 0],\n",
      "         [1, 1, 0, 0],\n",
      "         [1, 1, 0, 0],\n",
      "         [1, 1, 0, 0],\n",
      "         [1, 1, 0, 0],\n",
      "         [1, 1, 0, 0]],\n",
      "\n",
      "        [[1, 0, 0, 0],\n",
      "         [1, 0, 0, 0],\n",
      "         [1, 0, 0, 0],\n",
      "         [1, 0, 0, 0],\n",
      "         [1, 0, 0, 0],\n",
      "         [1, 0, 0, 0],\n",
      "         [1, 0, 0, 0],\n",
      "         [1, 0, 0, 0]]])\n",
      "torch.Size([3, 2, 8, 8])\n"
     ]
    },
    {
     "data": {
      "text/plain": [
       "tensor([[[-0.2988, -0.3074],\n",
       "         [-0.3125, -0.5643],\n",
       "         [-0.3005, -0.3734],\n",
       "         [-0.2980, -0.3352],\n",
       "         [-0.2746, -0.5080],\n",
       "         [-0.2857, -0.6067],\n",
       "         [-0.3137, -0.5252],\n",
       "         [-0.3322, -0.4907]],\n",
       "\n",
       "        [[-0.3547, -0.5050],\n",
       "         [-0.3829, -0.5032],\n",
       "         [-0.2951, -0.5374],\n",
       "         [-0.3427, -0.5328],\n",
       "         [-0.3521, -0.4849],\n",
       "         [-0.2906, -0.4808],\n",
       "         [-0.3897, -0.5004],\n",
       "         [-0.3585, -0.4875]],\n",
       "\n",
       "        [[-0.4109, -0.4072],\n",
       "         [-0.4842, -0.4756],\n",
       "         [-0.3380, -0.3474],\n",
       "         [-0.4199, -0.5146],\n",
       "         [-0.4077, -0.3894],\n",
       "         [-0.4800, -0.5030],\n",
       "         [-0.4513, -0.5060],\n",
       "         [-0.4914, -0.5046]]], grad_fn=<ViewBackward0>)"
      ]
     },
     "execution_count": 2,
     "metadata": {},
     "output_type": "execute_result"
    }
   ],
   "source": [
    "x = torch.randn(3, 8, 2)\n",
    "# x : (batch_size, seq_len, hidden_dim)\n",
    "mask = torch.tensor([[1, 1, 1, 0], [1, 1, 0, 0], [1, 0, 0, 0]])\n",
    "# mask : (batch_size, seq_len)\n",
    "# 要和attention_weight的shape保持一致：(batch_size, seq_len, seq_len)\n",
    "# 扩维\n",
    "mask = mask.unsqueeze(dim=1).repeat(1, x.size(1), 1)\n",
    "# unsqueeze在指定的维度（dim=1）上增加一个新的维度，变成(batch_size, 1, seq_len)\n",
    "# repeat沿着指定的维度重复张量，变成(batch_size, seq_len, seq_len)\n",
    "print(mask)\n",
    "\n",
    "net = MultiHeadAttention(2, 2)\n",
    "net(x)"
   ]
  },
  {
   "cell_type": "code",
   "execution_count": null,
   "metadata": {},
   "outputs": [],
   "source": []
  }
 ],
 "metadata": {
  "kernelspec": {
   "display_name": "tanshuai",
   "language": "python",
   "name": "python3"
  },
  "language_info": {
   "codemirror_mode": {
    "name": "ipython",
    "version": 3
   },
   "file_extension": ".py",
   "mimetype": "text/x-python",
   "name": "python",
   "nbconvert_exporter": "python",
   "pygments_lexer": "ipython3",
   "version": "3.11.10"
  }
 },
 "nbformat": 4,
 "nbformat_minor": 2
}
