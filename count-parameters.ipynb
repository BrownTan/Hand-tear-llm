{
 "cells": [
  {
   "cell_type": "markdown",
   "metadata": {},
   "source": [
    "# 计算Casual LLM参数量：\n",
    "* input layer：即embedding层，vocab_size * hidden_size \n",
    "* encoder layers：（有l层）\n",
    "    * MHA：\n",
    "        * layernorm：2 * hidden_size（公式中的w和b）\n",
    "        * MHA：4 * hidden_size * hidden_size + 4 * hidden_size\n",
    "    * FFN:\n",
    "        * layernorm：2 * hidden_size\n",
    "        * linear：hidden_size * hidden_size * 4 * 2 + hidden_size * (4 + 1)\n",
    "* output layer：hidden_size * vocab_size （可能和input layer共享）\n",
    "\n",
    "全加起来等于 $ 12lh^2 + 13lh + 2vh $"
   ]
  },
  {
   "cell_type": "markdown",
   "metadata": {},
   "source": []
  }
 ],
 "metadata": {
  "language_info": {
   "name": "python"
  }
 },
 "nbformat": 4,
 "nbformat_minor": 2
}
