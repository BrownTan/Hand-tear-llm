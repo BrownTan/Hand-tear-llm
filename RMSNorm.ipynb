{
 "cells": [
  {
   "cell_type": "markdown",
   "metadata": {},
   "source": [
    "# The difference between LayerNorm and RMSNorm\n",
    "\n",
    "LayerNorm: $ y = \\frac{x - \\mu}{\\sqrt{\\sigma^2 + \\epsilon}} * \\gamma + \\beta $\n",
    "\n",
    "RMSNorm: $ y = \\frac{x}{\\sqrt{\\frac{1}{n}\\sum_{i=1}^{d} x_i^2 + \\epsilon}} * \\gamma $"
   ]
  },
  {
   "cell_type": "markdown",
   "metadata": {},
   "source": [
    "* mean/var 都是reduce 的过程;\n",
    "    * mean(dim=a) => 返回的 shape 是(b,c)\n",
    "    * mean(dim=a, keepdim=True) =>(1, b, c)：方便 broadcast\n",
    "    * mean(dim=(a,b))=> 返回的 shape 是(c)\n",
    "    * mean(dim=(a,b), keepdim=True) =>(1, 1, c)：方便 broadcast"
   ]
  },
  {
   "cell_type": "code",
   "execution_count": 1,
   "metadata": {},
   "outputs": [],
   "source": [
    "import torch\n",
    "import torch.nn as nn\n",
    "\n",
    "# llama源码\n",
    "class RMSNorm(nn.Module):\n",
    "    def __init__(self, dim: int, eps: float = 1e-6):\n",
    "        super().__init__()\n",
    "        self.eps = eps\n",
    "        self.weight = nn.Parameter(torch.ones(dim))\n",
    "\n",
    "    def _norm(self, x):  # 提示私有，非强制\n",
    "        return x * torch.rsqrt(x.pow(2).mean(-1, keepdim=True) + self.eps)  # 平方根的倒数\n",
    "    \n",
    "    def forward(self, x):\n",
    "        output = self._norm(x.float()).type_as(x)  # 转换回与输入 x 相同的数据类型\n",
    "        return output * self.weight"
   ]
  },
  {
   "cell_type": "code",
   "execution_count": 3,
   "metadata": {},
   "outputs": [],
   "source": [
    "# 一句话写完（没有包含可学习的参数）\n",
    "def my_rms(x):\n",
    "    return x / torch.sqrt(torch.mean(x ** 2, dim=-1, keepdim=True) + 1e-5)"
   ]
  },
  {
   "cell_type": "code",
   "execution_count": 4,
   "metadata": {},
   "outputs": [
    {
     "data": {
      "text/plain": [
       "(tensor([[[ 0.3321,  1.1807, -1.3575, -0.8080],\n",
       "          [ 0.6407, -1.0380,  1.1444, -1.0965],\n",
       "          [-0.1252, -0.3735, -1.0646,  1.6466]],\n",
       " \n",
       "         [[-1.4560, -0.2368,  0.1816, -1.3383],\n",
       "          [-0.8618,  0.7659, -1.5711, -0.4498],\n",
       "          [-1.2662, -0.4932, -0.9945,  1.0791]]], grad_fn=<MulBackward0>),\n",
       " tensor([[[ 0.3321,  1.1807, -1.3575, -0.8080],\n",
       "          [ 0.6407, -1.0380,  1.1444, -1.0965],\n",
       "          [-0.1252, -0.3735, -1.0646,  1.6466]],\n",
       " \n",
       "         [[-1.4560, -0.2368,  0.1816, -1.3383],\n",
       "          [-0.8618,  0.7659, -1.5711, -0.4498],\n",
       "          [-1.2662, -0.4932, -0.9945,  1.0791]]]))"
      ]
     },
     "execution_count": 4,
     "metadata": {},
     "output_type": "execute_result"
    }
   ],
   "source": [
    "# 测试\n",
    "batch_size, seq_len, hidden_size = 2, 3, 4\n",
    "x = torch.randn(batch_size, seq_len, hidden_size)\n",
    "rms = RMSNorm(dim=4)\n",
    "rms(x), my_rms(x)"
   ]
  },
  {
   "cell_type": "code",
   "execution_count": null,
   "metadata": {},
   "outputs": [],
   "source": []
  }
 ],
 "metadata": {
  "kernelspec": {
   "display_name": "tanshuai",
   "language": "python",
   "name": "python3"
  },
  "language_info": {
   "codemirror_mode": {
    "name": "ipython",
    "version": 3
   },
   "file_extension": ".py",
   "mimetype": "text/x-python",
   "name": "python",
   "nbconvert_exporter": "python",
   "pygments_lexer": "ipython3",
   "version": "3.11.10"
  }
 },
 "nbformat": 4,
 "nbformat_minor": 2
}
